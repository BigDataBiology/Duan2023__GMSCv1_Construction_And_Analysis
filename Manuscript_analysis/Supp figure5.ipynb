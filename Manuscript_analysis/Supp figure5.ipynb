{
 "cells": [
  {
   "cell_type": "code",
   "execution_count": 1,
   "metadata": {},
   "outputs": [],
   "source": [
    "import pandas as pd\n",
    "import seaborn as sns\n",
    "from matplotlib import cm\n",
    "from matplotlib.pyplot import plot,savefig\n",
    "import matplotlib.pyplot as plt\n",
    "plt.rcParams['svg.fonttype'] = 'none'\n",
    "import os\n",
    "import numpy as np"
   ]
  },
  {
   "cell_type": "code",
   "execution_count": 2,
   "metadata": {},
   "outputs": [
    {
     "data": {
      "text/plain": [
       "([<matplotlib.patches.Wedge at 0x1fab757cb50>,\n",
       "  <matplotlib.patches.Wedge at 0x1fab758e280>],\n",
       " [Text(-1.099925433724177, 0.012807819747373045, 'Unknown smORFs'),\n",
       "  Text(1.2499152679803214, -0.014554135827368109, 'Homologs')],\n",
       " [Text(-0.5999593274859147, 0.006986083498567114, '91.30%'),\n",
       "  Text(0.7499491607881927, -0.008732481496420865, '8.70%')])"
      ]
     },
     "execution_count": 2,
     "metadata": {},
     "output_type": "execute_result"
    },
    {
     "data": {
      "image/png": "[encoded data removed]",
      "text/plain": [
       "<Figure size 432x288 with 1 Axes>"
      ]
     },
     "metadata": {},
     "output_type": "display_data"
    }
   ],
   "source": [
    "# high quality\n",
    "total_smorfs = 43617914\n",
    "data = [total_smorfs - 3796490,3796490]\n",
    "classes = ['Unknown smORFs', 'Homologs']\n",
    "explode = [0, 0.15]\n",
    "plt.pie(data,\n",
    "        labels=classes,\n",
    "        colors=['#f6e8c3','#dfc27d'],\n",
    "        explode=explode,\n",
    "        autopct='%.2f%%',\n",
    "        startangle = 15,\n",
    "        wedgeprops={'width': 0.6})"
   ]
  },
  {
   "cell_type": "code",
   "execution_count": 4,
   "metadata": {},
   "outputs": [
    {
     "data": {
      "text/plain": [
       "Text(0, 0.5, 'Proportion of homologs (%)')"
      ]
     },
     "execution_count": 4,
     "metadata": {},
     "output_type": "execute_result"
    },
    {
     "data": {
      "image/png": "[encoded data removed]",
      "text/plain": [
       "<Figure size 180x288 with 1 Axes>"
      ]
     },
     "metadata": {
      "needs_background": "light"
     },
     "output_type": "display_data"
    }
   ],
   "source": [
    "fig, ax = plt.subplots(figsize=(2.5,4))\n",
    "x = ['Refseq Bacteria', 'Refseq Archaea', \"Sberro's clusters\", \"Sberro's families\"]\n",
    "y = [19.24,16.57,6.85,20]\n",
    "plt.bar(x,y,color='#80cdc1',width=0.5,label='Homolog')\n",
    "ax.spines['right'].set_visible(False)\n",
    "ax.spines['top'].set_visible(False)\n",
    "plt.xticks(rotation=45)\n",
    "plt.ylabel('Proportion of homologs (%)')"
   ]
  },
  {
   "cell_type": "code",
   "execution_count": 6,
   "metadata": {},
   "outputs": [
    {
     "data": {
      "text/html": [
       "<div>\n",
       "<style scoped>\n",
       "    .dataframe tbody tr th:only-of-type {\n",
       "        vertical-align: middle;\n",
       "    }\n",
       "\n",
       "    .dataframe tbody tr th {\n",
       "        vertical-align: top;\n",
       "    }\n",
       "\n",
       "    .dataframe thead th {\n",
       "        text-align: right;\n",
       "    }\n",
       "</style>\n",
       "<table border=\"1\" class=\"dataframe\">\n",
       "  <thead>\n",
       "    <tr style=\"text-align: right;\">\n",
       "      <th></th>\n",
       "      <th>Homolog</th>\n",
       "      <th>Human</th>\n",
       "      <th>Non_human</th>\n",
       "      <th>Isolate</th>\n",
       "      <th>All</th>\n",
       "      <th>Non_isolate</th>\n",
       "    </tr>\n",
       "  </thead>\n",
       "  <tbody>\n",
       "    <tr>\n",
       "      <th>0</th>\n",
       "      <td>Homolog to sberro's clusters</td>\n",
       "      <td>85.01</td>\n",
       "      <td>14.43</td>\n",
       "      <td>0.56</td>\n",
       "      <td>100</td>\n",
       "      <td>99.44</td>\n",
       "    </tr>\n",
       "    <tr>\n",
       "      <th>1</th>\n",
       "      <td>Non-homolog to sberro's clusters</td>\n",
       "      <td>13.17</td>\n",
       "      <td>86.61</td>\n",
       "      <td>0.22</td>\n",
       "      <td>100</td>\n",
       "      <td>99.78</td>\n",
       "    </tr>\n",
       "    <tr>\n",
       "      <th>2</th>\n",
       "      <td>Homolog to sberro's families</td>\n",
       "      <td>89.53</td>\n",
       "      <td>9.85</td>\n",
       "      <td>0.62</td>\n",
       "      <td>100</td>\n",
       "      <td>99.38</td>\n",
       "    </tr>\n",
       "    <tr>\n",
       "      <th>3</th>\n",
       "      <td>Non-homolog to sberro's families</td>\n",
       "      <td>13.41</td>\n",
       "      <td>86.37</td>\n",
       "      <td>0.22</td>\n",
       "      <td>100</td>\n",
       "      <td>99.78</td>\n",
       "    </tr>\n",
       "    <tr>\n",
       "      <th>4</th>\n",
       "      <td>All 100AA smORFs</td>\n",
       "      <td>13.41</td>\n",
       "      <td>86.37</td>\n",
       "      <td>0.22</td>\n",
       "      <td>100</td>\n",
       "      <td>99.78</td>\n",
       "    </tr>\n",
       "  </tbody>\n",
       "</table>\n",
       "</div>"
      ],
      "text/plain": [
       "                            Homolog  Human  Non_human  Isolate  All  \\\n",
       "0      Homolog to sberro's clusters  85.01      14.43     0.56  100   \n",
       "1  Non-homolog to sberro's clusters  13.17      86.61     0.22  100   \n",
       "2      Homolog to sberro's families  89.53       9.85     0.62  100   \n",
       "3  Non-homolog to sberro's families  13.41      86.37     0.22  100   \n",
       "4                  All 100AA smORFs  13.41      86.37     0.22  100   \n",
       "\n",
       "   Non_isolate  \n",
       "0        99.44  \n",
       "1        99.78  \n",
       "2        99.38  \n",
       "3        99.78  \n",
       "4        99.78  "
      ]
     },
     "execution_count": 6,
     "metadata": {},
     "output_type": "execute_result"
    }
   ],
   "source": [
    "df = pd.read_csv('./data/supp_figure5/homolog.csv')\n",
    "df['Non_isolate'] = df['All']-df['Isolate']\n",
    "df"
   ]
  },
  {
   "cell_type": "code",
   "execution_count": 7,
   "metadata": {},
   "outputs": [
    {
     "data": {
      "image/png": "[encoded data removed]",
      "text/plain": [
       "<Figure size 432x288 with 1 Axes>"
      ]
     },
     "metadata": {
      "needs_background": "light"
     },
     "output_type": "display_data"
    }
   ],
   "source": [
    "fig, ax = plt.subplots()\n",
    "sns.barplot(x = df.Homolog, y = df.All, color = '#d95f02')\n",
    "medium_plot = sns.barplot(x = df.Homolog, y = df.Non_isolate, color = '#7570b3')\n",
    "bottom_plot = sns.barplot(x = df.Homolog, y = df.Human, color = '#1b9e77')\n",
    "\n",
    "bottom_plot.set_xticklabels(df.Homolog, rotation=30)\n",
    "bottom_plot.set_ylabel(\"Proportion (%)\")\n",
    "bottom_plot.set_xlabel(\"\")\n",
    "topbar = plt.Rectangle((0,0),1,1,fc=\"#1b9e77\", edgecolor = 'none')\n",
    "mediumbar = plt.Rectangle((0,0),1,1,fc=\"#7570b3\", edgecolor = 'none')\n",
    "bottombar = plt.Rectangle((0,0),1,1,fc='#d95f02',  edgecolor = 'none')\n",
    "plt.legend([topbar,mediumbar, bottombar], ['Human','Non-human','Isolate'], loc=1, ncol = 3, bbox_to_anchor=(0.9,1.1))\n",
    "\n",
    "ax.spines['right'].set_visible(False)\n",
    "ax.spines['top'].set_visible(False)"
   ]
  },
  {
   "cell_type": "code",
   "execution_count": 8,
   "metadata": {},
   "outputs": [
    {
     "data": {
      "text/html": [
       "<div>\n",
       "<style scoped>\n",
       "    .dataframe tbody tr th:only-of-type {\n",
       "        vertical-align: middle;\n",
       "    }\n",
       "\n",
       "    .dataframe tbody tr th {\n",
       "        vertical-align: top;\n",
       "    }\n",
       "\n",
       "    .dataframe thead th {\n",
       "        text-align: right;\n",
       "    }\n",
       "</style>\n",
       "<table border=\"1\" class=\"dataframe\">\n",
       "  <thead>\n",
       "    <tr style=\"text-align: right;\">\n",
       "      <th></th>\n",
       "      <th>Database</th>\n",
       "      <th>all</th>\n",
       "      <th>mapped</th>\n",
       "      <th>Homolog fraction</th>\n",
       "      <th>Non-homolog fraction</th>\n",
       "    </tr>\n",
       "  </thead>\n",
       "  <tbody>\n",
       "    <tr>\n",
       "      <th>0</th>\n",
       "      <td>NMPFamsDB</td>\n",
       "      <td>56786</td>\n",
       "      <td>53833</td>\n",
       "      <td>94.799775</td>\n",
       "      <td>5.200225</td>\n",
       "    </tr>\n",
       "    <tr>\n",
       "      <th>1</th>\n",
       "      <td>FesNov</td>\n",
       "      <td>630375</td>\n",
       "      <td>602591</td>\n",
       "      <td>95.592465</td>\n",
       "      <td>4.407535</td>\n",
       "    </tr>\n",
       "    <tr>\n",
       "      <th>2</th>\n",
       "      <td>SmProt2</td>\n",
       "      <td>788586</td>\n",
       "      <td>214590</td>\n",
       "      <td>27.211997</td>\n",
       "      <td>72.788003</td>\n",
       "    </tr>\n",
       "    <tr>\n",
       "      <th>3</th>\n",
       "      <td>OpenProt2.0</td>\n",
       "      <td>1781907</td>\n",
       "      <td>106736</td>\n",
       "      <td>5.989987</td>\n",
       "      <td>94.010013</td>\n",
       "    </tr>\n",
       "    <tr>\n",
       "      <th>4</th>\n",
       "      <td>sORFs.org</td>\n",
       "      <td>4377422</td>\n",
       "      <td>600776</td>\n",
       "      <td>13.724425</td>\n",
       "      <td>86.275575</td>\n",
       "    </tr>\n",
       "  </tbody>\n",
       "</table>\n",
       "</div>"
      ],
      "text/plain": [
       "      Database      all  mapped  Homolog fraction  Non-homolog fraction\n",
       "0    NMPFamsDB    56786   53833         94.799775              5.200225\n",
       "1       FesNov   630375  602591         95.592465              4.407535\n",
       "2      SmProt2   788586  214590         27.211997             72.788003\n",
       "3  OpenProt2.0  1781907  106736          5.989987             94.010013\n",
       "4    sORFs.org  4377422  600776         13.724425             86.275575"
      ]
     },
     "execution_count": 8,
     "metadata": {},
     "output_type": "execute_result"
    }
   ],
   "source": [
    "df = pd.read_csv('./data/supp_figure5/database.csv')\n",
    "df['Homolog fraction'] = df['mapped']/df['all']*100\n",
    "df['Non-homolog fraction'] = 100-df['Homolog fraction']\n",
    "df"
   ]
  },
  {
   "cell_type": "code",
   "execution_count": 9,
   "metadata": {},
   "outputs": [
    {
     "data": {
      "text/plain": [
       "Text(0, 0.5, 'Proportion of homologs (%)')"
      ]
     },
     "execution_count": 9,
     "metadata": {},
     "output_type": "execute_result"
    },
    {
     "data": {
      "image/png": "[encoded data removed]",
      "text/plain": [
       "<Figure size 180x288 with 1 Axes>"
      ]
     },
     "metadata": {
      "needs_background": "light"
     },
     "output_type": "display_data"
    }
   ],
   "source": [
    "fig, ax = plt.subplots(figsize=(2.5,4))\n",
    "x = df['Database']\n",
    "y = df['Homolog fraction']\n",
    "plt.bar(x,y,color='#80cdc1',width=0.5,label='Homolog')\n",
    "ax.spines['right'].set_visible(False)\n",
    "ax.spines['top'].set_visible(False)\n",
    "plt.xticks(rotation=45)\n",
    "plt.ylabel('Proportion of homologs (%)')"
   ]
  }
 ],
 "metadata": {
  "kernelspec": {
   "display_name": "Python 3",
   "language": "python",
   "name": "python3"
  },
  "language_info": {
   "codemirror_mode": {
    "name": "ipython",
    "version": 3
   },
   "file_extension": ".py",
   "mimetype": "text/x-python",
   "name": "python",
   "nbconvert_exporter": "python",
   "pygments_lexer": "ipython3",
   "version": "3.8.5"
  }
 },
 "nbformat": 4,
 "nbformat_minor": 4
}
