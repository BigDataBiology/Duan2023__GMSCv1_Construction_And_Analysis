{
 "cells": [
  {
   "cell_type": "code",
   "execution_count": 1,
   "metadata": {},
   "outputs": [],
   "source": [
    "import pandas as pd\n",
    "import seaborn as sns\n",
    "from matplotlib import cm\n",
    "from matplotlib.pyplot import plot,savefig\n",
    "import matplotlib.pyplot as plt\n",
    "plt.rcParams['svg.fonttype'] = 'none'\n",
    "import os\n",
    "import numpy as np"
   ]
  },
  {
   "cell_type": "code",
   "execution_count": 8,
   "metadata": {},
   "outputs": [
    {
     "data": {
      "text/html": [
       "<div>\n",
       "<style scoped>\n",
       "    .dataframe tbody tr th:only-of-type {\n",
       "        vertical-align: middle;\n",
       "    }\n",
       "\n",
       "    .dataframe tbody tr th {\n",
       "        vertical-align: top;\n",
       "    }\n",
       "\n",
       "    .dataframe thead th {\n",
       "        text-align: right;\n",
       "    }\n",
       "</style>\n",
       "<table border=\"1\" class=\"dataframe\">\n",
       "  <thead>\n",
       "    <tr style=\"text-align: right;\">\n",
       "      <th></th>\n",
       "      <th>Pass</th>\n",
       "      <th>Fail</th>\n",
       "      <th>Not perform</th>\n",
       "    </tr>\n",
       "    <tr>\n",
       "      <th>Quality test</th>\n",
       "      <th></th>\n",
       "      <th></th>\n",
       "      <th></th>\n",
       "    </tr>\n",
       "  </thead>\n",
       "  <tbody>\n",
       "    <tr>\n",
       "      <th>MetaProteomic</th>\n",
       "      <td>1.018873</td>\n",
       "      <td>98.981127</td>\n",
       "      <td>0.000000</td>\n",
       "    </tr>\n",
       "    <tr>\n",
       "      <th>Ribo-Seq</th>\n",
       "      <td>1.184731</td>\n",
       "      <td>98.815269</td>\n",
       "      <td>0.000000</td>\n",
       "    </tr>\n",
       "    <tr>\n",
       "      <th>MetaTranscriptomic</th>\n",
       "      <td>38.199324</td>\n",
       "      <td>61.800676</td>\n",
       "      <td>0.000000</td>\n",
       "    </tr>\n",
       "    <tr>\n",
       "      <th>RNAcode</th>\n",
       "      <td>32.224023</td>\n",
       "      <td>11.022417</td>\n",
       "      <td>56.753559</td>\n",
       "    </tr>\n",
       "    <tr>\n",
       "      <th>AntiFam</th>\n",
       "      <td>99.795174</td>\n",
       "      <td>0.204826</td>\n",
       "      <td>0.000000</td>\n",
       "    </tr>\n",
       "    <tr>\n",
       "      <th>Terminal checking</th>\n",
       "      <td>41.933237</td>\n",
       "      <td>57.659130</td>\n",
       "      <td>0.407633</td>\n",
       "    </tr>\n",
       "  </tbody>\n",
       "</table>\n",
       "</div>"
      ],
      "text/plain": [
       "                         Pass       Fail  Not perform\n",
       "Quality test                                         \n",
       "MetaProteomic        1.018873  98.981127     0.000000\n",
       "Ribo-Seq             1.184731  98.815269     0.000000\n",
       "MetaTranscriptomic  38.199324  61.800676     0.000000\n",
       "RNAcode             32.224023  11.022417    56.753559\n",
       "AntiFam             99.795174   0.204826     0.000000\n",
       "Terminal checking   41.933237  57.659130     0.407633"
      ]
     },
     "execution_count": 8,
     "metadata": {},
     "output_type": "execute_result"
    }
   ],
   "source": [
    "df = pd.read_csv('./data/supp_figure4/quality_100AA_statistic.tsv',sep='\\t',index_col=0)\n",
    "df = df.T\n",
    "df = df * 100 / df.sum()\n",
    "df = df.T\n",
    "df"
   ]
  },
  {
   "cell_type": "code",
   "execution_count": 10,
   "metadata": {},
   "outputs": [
    {
     "data": {
      "image/png": "[encoded data removed]",
      "text/plain": [
       "<Figure size 432x288 with 1 Axes>"
      ]
     },
     "metadata": {
      "needs_background": "light"
     },
     "output_type": "display_data"
    }
   ],
   "source": [
    "ax =df.plot.barh(stacked=True,color=['#1b9e77','#7570b3','#e6ab02'])\n",
    "plt.xlim(0,100)\n",
    "plt.xlabel('Percentage of 100AA smORFs catalog (%)')\n",
    "plt.legend(['Pass','Fail','Not perform'],loc=2,bbox_to_anchor=(0.15,1.15),ncol=3)\n",
    "plt.tight_layout()\n",
    "ax.spines['top'].set_visible(False)\n",
    "ax.spines['right'].set_visible(False)"
   ]
  },
  {
   "cell_type": "code",
   "execution_count": null,
   "metadata": {},
   "outputs": [],
   "source": [
    "## data is too large to show here\n",
    "#from upsetplot import UpSet\n",
    "#from upsetplot import from_indicators\n",
    "#import pandas as pd\n",
    "#import matplotlib.pyplot as plt\n",
    "#plt.rcParams['svg.fonttype'] = 'none'\n",
    "\n",
    "#df = pd.read_csv('100AA_quality.tsv',sep = \"\\t\")\n",
    "#df = df.replace(\"T\",True).replace(\"F\",False).replace(\"NA\",False)\n",
    "#fig = plt.figure()\n",
    "#pltDict = UpSet(from_indicators(['Antifam','Terminal checking','RNAcode','metaTranscriptome','Riboseq','metaProteome'],df),sort_by='cardinality',min_subset_size=300000,facecolor='#1b9e77').plot(fig)\n",
    "#fig.savefig('100AA_upset.svg')"
   ]
  }
 ],
 "metadata": {
  "kernelspec": {
   "display_name": "Python 3",
   "language": "python",
   "name": "python3"
  },
  "language_info": {
   "codemirror_mode": {
    "name": "ipython",
    "version": 3
   },
   "file_extension": ".py",
   "mimetype": "text/x-python",
   "name": "python",
   "nbconvert_exporter": "python",
   "pygments_lexer": "ipython3",
   "version": "3.8.5"
  }
 },
 "nbformat": 4,
 "nbformat_minor": 4
}
